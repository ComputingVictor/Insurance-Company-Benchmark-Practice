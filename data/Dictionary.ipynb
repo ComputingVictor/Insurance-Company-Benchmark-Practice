{
 "cells": [
  {
   "cell_type": "markdown",
   "id": "4fffdcdf",
   "metadata": {},
   "source": [
    "# Diccionario de datos"
   ]
  },
  {
   "cell_type": "markdown",
   "id": "e4f2ba82",
   "metadata": {},
   "source": [
    "---"
   ]
  },
  {
   "cell_type": "markdown",
   "id": "a17168fd",
   "metadata": {},
   "source": [
    "Este documento pretende aportar información descriptiva del contenido y forma del dataset utilizado en la primera práctica de la asignatura de Machine Learning, la cual consiste en la elaboración del EDA del dataset **Insurance Company Benchmark**.\n",
    "\n",
    "Este dataset incorpora informacion relativa a diferentes clientes de una aseguradora, exactamente un número de **86 variables**, **agrupadas** en dos grupos:\n",
    "- **Datos sociodemográficos derivados del código postal**.\n",
    "- **Datos acerca de la titulariad de pólizas sobre diferentes bienes**.\n",
    "\n",
    "En este diccionario nos disponemos a describir cada una de las variables que posee, su\n",
    "significado, posibles valores que puede tomar y otros aspectos técnicos relevantes para el\n",
    "manejo de este dataset y que permitan la elaboración de modelos.\n"
   ]
  },
  {
   "cell_type": "markdown",
   "id": "d5eb8d14",
   "metadata": {},
   "source": [
    "## Sociodemographic Data (Derived from zipcodes)\n"
   ]
  },
  {
   "cell_type": "markdown",
   "id": "317aa6c4",
   "metadata": {},
   "source": [
    "| **Field Name** \t| **Description** \t| **Variable Type** \t| **Data Type** \t| **Value** \t|\n",
    "|:---:\t|:---:\t|:---:\t|:---:\t|:---\t|\n",
    "| MOSTYPE \t| Customer Subtype \t| Categorical \t| _int64_ \t| 1: High Income, expensive child<br>2: Very Important Provincials                                           <br>3: High status seniors<br>4: Affluent senior apartments<br>5: Mixed seniors<br>6: Career and childcare<br>7: Dinki's (double income no kids)<br>8: Middle class families<br>9: Modern, complete families<br>11: Family starters<br>12: Affluent young families<br>13: Young all american family<br>14: Junior cosmopolitan<br>15: Senior cosmopolitans<br>16: Students in apartments<br>17: Fresh masters in the city<br>18: Single youth<br>19: Suburban youth<br>20: Etnically diverse<br>21: Young urban have-nots<br>22: Mixed apartment dwellers<br>23: Young and rising<br>24: Young, low educated <br>25: Young seniors in the city<br>26: Own home elderly<br>27: Seniors in apartments<br>28: Residential elderly<br>29: Porchless seniors: no front yard<br>30: Religious elderly singles<br>31: Low income catholics<br>32: Mixed seniors<br>33: Lower class large families<br>34: Large family, employed child<br>35: Village families<br>36: Couples with teens 'Married with children'<br>37: Mixed small town dwellers<br>38: Traditional families<br>39: Large religous families<br>40: Large family farms<br>41: Mixed rurals \t|\n",
    "| MAANTHUI \t| Number of houses \t| Discrete \t| _int64_ \t| Values between [1 – 10] \t|\n",
    "| MGEMOMV \t| Avg size household \t| Discrete \t| _int64_ \t| Values between [1 – 6] \t|\n",
    "| MGEMLEEF \t| Avg age \t| Categorical \t| _int64_ \t| 1: 20-30 years<br>2: 30-40 years<br>3: 40-50 years<br>4: 50-60 years<br>5: 60-70 years<br>6: 70-80 years \t|\n",
    "| MOSHOOFD \t| Customer main type \t| Categorical \t| _int64_ \t| 1: Successful hedonists<br>2: Driven Growers<br>3: Average Family<br>4: Career Loners<br>5: Living well<br>6: Cruising Seniors<br>7: Retired and Religeous<br>8: Family with grown ups<br>9: Conservative families<br>10: Farmers \t|\n",
    "| MGODRK \t| Roman catholic \t| Categorical \t| _int64_ \t| 0: 0%<br>1: 1 - 10%<br>2: 11 - 23%<br>3: 24 - 36%<br>4: 37 - 49%<br>5: 50 - 62%<br>6: 63 - 75%<br>7: 76 - 88%<br>8: 89 - 99%<br>9: 100% \t|\n",
    "| MGODPR \t| Protestant \t| Categorical \t| _int64_ \t| 0: 0%<br>1: 1 - 10%<br>2: 11 - 23%<br>3: 24 - 36%<br>4: 37 - 49%<br>5: 50 - 62%<br>6: 63 - 75%<br>7: 76 - 88%<br>8: 89 - 99%<br>9: 100% \t|\n",
    "| MGODOV \t| Other religion \t| Categorical \t| _int64_ \t| 0: 0%<br>1: 1 - 10%<br>2: 11 - 23%<br>3: 24 - 36%<br>4: 37 - 49%<br>5: 50 - 62%<br>6: 63 - 75%<br>7: 76 - 88%<br>8: 89 - 99%<br>9: 100% \t|\n",
    "| MGODGE \t| No religion \t| Categorical \t| _int64_ \t| 0: 0%<br>1: 1 - 10%<br>2: 11 - 23%<br>3: 24 - 36%<br>4: 37 - 49%<br>5: 50 - 62%<br>6: 63 - 75%<br>7: 76 - 88%<br>8: 89 - 99%<br>9: 100% \t|\n",
    "| MRELGE \t| Married \t| Categorical \t| _int64_ \t| 0: 0%<br>1: 1 - 10%<br>2: 11 - 23%<br>3: 24 - 36%<br>4: 37 - 49%<br>5: 50 - 62%<br>6: 63 - 75%<br>7: 76 - 88%<br>8: 89 - 99%<br>9: 100% \t|\n",
    "| MRELSA \t| Living together \t| Categorical \t| _int64_ \t| 0: 0%<br>1: 1 - 10%<br>2: 11 - 23%<br>3: 24 - 36%<br>4: 37 - 49%<br>5: 50 - 62%<br>6: 63 - 75%<br>7: 76 - 88%<br>8: 89 - 99%<br>9: 100% \t|\n",
    "| MRELOV \t| Other relation \t| Categorical \t| _int64_ \t| 0: 0%<br>1: 1 - 10%<br>2: 11 - 23%<br>3: 24 - 36%<br>4: 37 - 49%<br>5: 50 - 62%<br>6: 63 - 75%<br>7: 76 - 88%<br>8: 89 - 99%<br>9: 100% \t|\n",
    "| MFALLEEN \t| Singles \t| Categorical \t| _int64_ \t| 0: 0%<br>1: 1 - 10%<br>2: 11 - 23%<br>3: 24 - 36%<br>4: 37 - 49%<br>5: 50 - 62%<br>6: 63 - 75%<br>7: 76 - 88%<br>8: 89 - 99%<br>9: 100% \t|\n",
    "| MFGEKIND \t| Household without children \t| Categorical \t| _int64_ \t| 0: 0%<br>1: 1 - 10%<br>2: 11 - 23%<br>3: 24 - 36%<br>4: 37 - 49%<br>5: 50 - 62%<br>6: 63 - 75%<br>7: 76 - 88%<br>8: 89 - 99%<br>9: 100% \t|\n",
    "| MFWEKIND \t| Household with children \t| Categorical \t| _int64_ \t| 0: 0%<br>1: 1 - 10%<br>2: 11 - 23%<br>3: 24 - 36%<br>4: 37 - 49%<br>5: 50 - 62%<br>6: 63 - 75%<br>7: 76 - 88%<br>8: 89 - 99%<br>9: 100% \t|\n",
    "| MOPLHOOG \t| High level education \t| Categorical \t| _int64_ \t| 0: 0%<br>1: 1 - 10%<br>2: 11 - 23%<br>3: 24 - 36%<br>4: 37 - 49%<br>5: 50 - 62%<br>6: 63 - 75%<br>7: 76 - 88%<br>8: 89 - 99%<br>9: 100% \t|\n",
    "| MOPLMIDD \t| Medium level education \t| Categorical \t| _int64_ \t| 0: 0%<br>1: 1 - 10%<br>2: 11 - 23%<br>3: 24 - 36%<br>4: 37 - 49%<br>5: 50 - 62%<br>6: 63 - 75%<br>7: 76 - 88%<br>8: 89 - 99%<br>9: 100% \t|\n",
    "| MOPLLAAG \t| Lower level education \t| Categorical \t| _int64_ \t| 0: 0%<br>1: 1 - 10%<br>2: 11 - 23%<br>3: 24 - 36%<br>4: 37 - 49%<br>5: 50 - 62%<br>6: 63 - 75%<br>7: 76 - 88%<br>8: 89 - 99%<br>9: 100% \t|\n",
    "| MBERHOOG \t| High status \t| Categorical \t| _int64_ \t| 0: 0%<br>1: 1 - 10%<br>2: 11 - 23%<br>3: 24 - 36%<br>4: 37 - 49%<br>5: 50 - 62%<br>6: 63 - 75%<br>7: 76 - 88%<br>8: 89 - 99%<br>9: 100% \t|\n",
    "| MBERZELF \t| Entrepreneur \t| Categorical \t| _int64_ \t| 0: 0%<br>1: 1 - 10%<br>2: 11 - 23%<br>3: 24 - 36%<br>4: 37 - 49%<br>5: 50 - 62%<br>6: 63 - 75%<br>7: 76 - 88%<br>8: 89 - 99%<br>9: 100% \t|\n",
    "| MBERBOER \t| Farmer \t| Categorical \t| _int64_ \t| 0: 0%<br>1: 1 - 10%<br>2: 11 - 23%<br>3: 24 - 36%<br>4: 37 - 49%<br>5: 50 - 62%<br>6: 63 - 75%<br>7: 76 - 88%<br>8: 89 - 99%<br>9: 100% \t|\n",
    "| MBERMIDD \t| Middle management \t| Categorical \t| _int64_ \t| 0: 0%<br>1: 1 - 10%<br>2: 11 - 23%<br>3: 24 - 36%<br>4: 37 - 49%<br>5: 50 - 62%<br>6: 63 - 75%<br>7: 76 - 88%<br>8: 89 - 99%<br>9: 100% \t|\n",
    "| MBERARBG \t| Skilled labourers \t| Categorical \t| _int64_ \t| 0: 0%<br>1: 1 - 10%<br>2: 11 - 23%<br>3: 24 - 36%<br>4: 37 - 49%<br>5: 50 - 62%<br>6: 63 - 75%<br>7: 76 - 88%<br>8: 89 - 99%<br>9: 100% \t|\n",
    "| MBERARBO \t| Unskilled labourers \t| Categorical \t| _int64_ \t| 0: 0%<br>1: 1 - 10%<br>2: 11 - 23%<br>3: 24 - 36%<br>4: 37 - 49%<br>5: 50 - 62%<br>6: 63 - 75%<br>7: 76 - 88%<br>8: 89 - 99%<br>9: 100% \t|\n",
    "| MSKA \t| Social class A \t| Categorical \t| _int64_ \t| 0: 0%<br>1: 1 - 10%<br>2: 11 - 23%<br>3: 24 - 36%<br>4: 37 - 49%<br>5: 50 - 62%<br>6: 63 - 75%<br>7: 76 - 88%<br>8: 89 - 99%<br>9: 100% \t|\n",
    "| MSKB1 \t| Social class B1 \t| Categorical \t| _int64_ \t| 0: 0%<br>1: 1 - 10%<br>2: 11 - 23%<br>3: 24 - 36%<br>4: 37 - 49%<br>5: 50 - 62%<br>6: 63 - 75%<br>7: 76 - 88%<br>8: 89 - 99%<br>9: 100% \t|\n",
    "| MSKB2 \t| Social class B2 \t| Categorical \t| _int64_ \t| 0: 0%<br>1: 1 - 10%<br>2: 11 - 23%<br>3: 24 - 36%<br>4: 37 - 49%<br>5: 50 - 62%<br>6: 63 - 75%<br>7: 76 - 88%<br>8: 89 - 99%<br>9: 100% \t|\n",
    "| MSKC \t| Social class C \t| Categorical \t| _int64_ \t| 0: 0%<br>1: 1 - 10%<br>2: 11 - 23%<br>3: 24 - 36%<br>4: 37 - 49%<br>5: 50 - 62%<br>6: 63 - 75%<br>7: 76 - 88%<br>8: 89 - 99%<br>9: 100% \t|\n",
    "| MSKD \t| Social class D \t| Categorical \t| _int64_ \t| 0: 0%<br>1: 1 - 10%<br>2: 11 - 23%<br>3: 24 - 36%<br>4: 37 - 49%<br>5: 50 - 62%<br>6: 63 - 75%<br>7: 76 - 88%<br>8: 89 - 99%<br>9: 100% \t|\n",
    "| MHHUUR \t| Rented house \t| Categorical \t| _int64_ \t| 0: 0%<br>1: 1 - 10%<br>2: 11 - 23%<br>3: 24 - 36%<br>4: 37 - 49%<br>5: 50 - 62%<br>6: 63 - 75%<br>7: 76 - 88%<br>8: 89 - 99%<br>9: 100% \t|\n",
    "| MHKOOP \t| Home owners \t| Categorical \t| _int64_ \t| 0: 0%<br>1: 1 - 10%<br>2: 11 - 23%<br>3: 24 - 36%<br>4: 37 - 49%<br>5: 50 - 62%<br>6: 63 - 75%<br>7: 76 - 88%<br>8: 89 - 99%<br>9: 100% \t|\n",
    "| MAUT1 \t| 1 car \t| Categorical \t| _int64_ \t| 0: 0%<br>1: 1 - 10%<br>2: 11 - 23%<br>3: 24 - 36%<br>4: 37 - 49%<br>5: 50 - 62%<br>6: 63 - 75%<br>7: 76 - 88%<br>8: 89 - 99%<br>9: 100% \t|\n",
    "| MAUT2 \t| 2 cars \t| Categorical \t| _int64_ \t| 0: 0%<br>1: 1 - 10%<br>2: 11 - 23%<br>3: 24 - 36%<br>4: 37 - 49%<br>5: 50 - 62%<br>6: 63 - 75%<br>7: 76 - 88%<br>8: 89 - 99%<br>9: 100% \t|\n",
    "| MAUT0 \t| No car \t| Categorical \t| _int64_ \t| 0: 0%<br>1: 1 - 10%<br>2: 11 - 23%<br>3: 24 - 36%<br>4: 37 - 49%<br>5: 50 - 62%<br>6: 63 - 75%<br>7: 76 - 88%<br>8: 89 - 99%<br>9: 100% \t|\n",
    "| MZFONDS \t| National Health Service \t| Categorical \t| _int64_ \t| 0: 0%<br>1: 1 - 10%<br>2: 11 - 23%<br>3: 24 - 36%<br>4: 37 - 49%<br>5: 50 - 62%<br>6: 63 - 75%<br>7: 76 - 88%<br>8: 89 - 99%<br>9: 100% \t|\n",
    "| MZPART \t| Private health insurance \t| Categorical \t| _int64_ \t| 0: 0%<br>1: 1 - 10%<br>2: 11 - 23%<br>3: 24 - 36%<br>4: 37 - 49%<br>5: 50 - 62%<br>6: 63 - 75%<br>7: 76 - 88%<br>8: 89 - 99%<br>9: 100% \t|\n",
    "| MINKM30 \t| Income < 30.000 \t| Categorical \t| _int64_ \t| 0: 0%<br>1: 1 - 10%<br>2: 11 - 23%<br>3: 24 - 36%<br>4: 37 - 49%<br>5: 50 - 62%<br>6: 63 - 75%<br>7: 76 - 88%<br>8: 89 - 99%<br>9: 100% \t|\n",
    "| MINK3045 \t| Income 30-45.000 \t| Categorical \t| _int64_ \t| 0: 0%<br>1: 1 - 10%<br>2: 11 - 23%<br>3: 24 - 36%<br>4: 37 - 49%<br>5: 50 - 62%<br>6: 63 - 75%<br>7: 76 - 88%<br>8: 89 - 99%<br>9: 100% \t|\n",
    "| MINK4575 \t| Income 45-75.000 \t| Categorical \t| _int64_ \t| 0: 0%<br>1: 1 - 10%<br>2: 11 - 23%<br>3: 24 - 36%<br>4: 37 - 49%<br>5: 50 - 62%<br>6: 63 - 75%<br>7: 76 - 88%<br>8: 89 - 99%<br>9: 100% \t|\n",
    "| MINK7512 \t| Income 75-122.000 \t| Categorical \t| _int64_ \t| 0: 0%<br>1: 1 - 10%<br>2: 11 - 23%<br>3: 24 - 36%<br>4: 37 - 49%<br>5: 50 - 62%<br>6: 63 - 75%<br>7: 76 - 88%<br>8: 89 - 99%<br>9: 100% \t|\n",
    "| MINK123M \t| Income >123.000 \t| Categorical \t| _int64_ \t| 0: 0%<br>1: 1 - 10%<br>2: 11 - 23%<br>3: 24 - 36%<br>4: 37 - 49%<br>5: 50 - 62%<br>6: 63 - 75%<br>7: 76 - 88%<br>8: 89 - 99%<br>9: 100% \t|\n",
    "| MINKGEM \t| Average income \t| Categorical \t| _int64_ \t| 0: 0%<br>1: 1 - 10%<br>2: 11 - 23%<br>3: 24 - 36%<br>4: 37 - 49%<br>5: 50 - 62%<br>6: 63 - 75%<br>7: 76 - 88%<br>8: 89 - 99%<br>9: 100% \t|\n",
    "| MKOOPKLA \t| Purchasing power class \t| Categorical \t| _int64_ \t| 0: 0%<br>1: 1 - 10%<br>2: 11 - 23%<br>3: 24 - 36%<br>4: 37 - 49%<br>5: 50 - 62%<br>6: 63 - 75%<br>7: 76 - 88%<br>8: 89 - 99%<br>9: 100% \t|"
   ]
  },
  {
   "cell_type": "markdown",
   "id": "5e85cc6e",
   "metadata": {},
   "source": [
    "## Product Ownership"
   ]
  },
  {
   "cell_type": "markdown",
   "id": "1f8181e8",
   "metadata": {},
   "source": [
    "| **Field Name** \t| **Description** \t| **Variable Type** \t| **Data Type** \t| **Range** \t|\n",
    "|:---:\t|:---:\t\t|:---:\t|:---:\t\t|:---\t|\n",
    "| PWAPART \t| Contribution private third party insurance \t| Categorical \t| _int64_ \t| 0: 0%<br>1: 1 - 10%<br>2: 11 - 23%<br>3: 24 - 36%<br>4: 37 - 49%<br>5: 50 - 62%<br>6: 63 - 75%<br>7: 76 - 88%<br>8: 89 - 99%<br>9: 100% \t|\n",
    "| PWABEDR \t| Contribution third party insurance (firms) \t| Categorical \t| _int64_ \t| 0: f 0<br>1: f 1 – 49<br>2: f 50 – 99<br>3: f 100 – 199<br>4: f 200 – 499<br>5: f 500 – 999<br>6: f 1000 – 4999<br>7: f 5000 – 9999<br>8: f 10.000 - 19.999<br>9: f 20.000 - ? \t|\n",
    "| PWALAND \t| Contribution third party insurane (agriculture) \t| Categorical \t| _int64_ \t| 0: f 0<br>1: f 1 – 49<br>2: f 50 – 99<br>3: f 100 – 199<br>4: f 200 – 499<br>5: f 500 – 999<br>6: f 1000 – 4999<br>7: f 5000 – 9999<br>8: f 10.000 - 19.999<br>9: f 20.000 - ? \t|\n",
    "| PPERSAUT \t| Contribution car policies \t| Categorical \t| _int64_ \t| 0: f 0<br>1: f 1 – 49<br>2: f 50 – 99<br>3: f 100 – 199<br>4: f 200 – 499<br>5: f 500 – 999<br>6: f 1000 – 4999<br>7: f 5000 – 9999<br>8: f 10.000 - 19.999<br>9: f 20.000 - ? \t|\n",
    "| PBESAUT \t| Contribution delivery van policies \t| Categorical \t| _int64_ \t| 0: f 0<br>1: f 1 – 49<br>2: f 50 – 99<br>3: f 100 – 199<br>4: f 200 – 499<br>5: f 500 – 999<br>6: f 1000 – 4999<br>7: f 5000 – 9999<br>8: f 10.000 - 19.999<br>9: f 20.000 - ? \t|\n",
    "| PMOTSCO \t| Contribution motorcycle/scooter policies \t| Categorical \t| _int64_ \t| 0: f 0<br>1: f 1 – 49<br>2: f 50 – 99<br>3: f 100 – 199<br>4: f 200 – 499<br>5: f 500 – 999<br>6: f 1000 – 4999<br>7: f 5000 – 9999<br>8: f 10.000 - 19.999<br>9: f 20.000 - ? \t|\n",
    "| PVRAAUT \t| Contribution lorry policies \t| Categorical \t| _int64_ \t| 0: f 0<br>1: f 1 – 49<br>2: f 50 – 99<br>3: f 100 – 199<br>4: f 200 – 499<br>5: f 500 – 999<br>6: f 1000 – 4999<br>7: f 5000 – 9999<br>8: f 10.000 - 19.999<br>9: f 20.000 - ? \t|\n",
    "| PAANHANG \t| Contribution trailer policies \t| Categorical \t| _int64_ \t| 0: f 0<br>1: f 1 – 49<br>2: f 50 – 99<br>3: f 100 – 199<br>4: f 200 – 499<br>5: f 500 – 999<br>6: f 1000 – 4999<br>7: f 5000 – 9999<br>8: f 10.000 - 19.999<br>9: f 20.000 - ? \t|\n",
    "| PTRACTOR \t| Contribution tractor policies \t| Categorical \t| _int64_ \t| 0: f 0<br>1: f 1 – 49<br>2: f 50 – 99<br>3: f 100 – 199<br>4: f 200 – 499<br>5: f 500 – 999<br>6: f 1000 – 4999<br>7: f 5000 – 9999<br>8: f 10.000 - 19.999<br>9: f 20.000 - ? \t|\n",
    "| PWERKT \t| Contribution agricultural machines policies \t| Categorical \t| _int64_ \t| 0: f 0<br>1: f 1 – 49<br>2: f 50 – 99<br>3: f 100 – 199<br>4: f 200 – 499<br>5: f 500 – 999<br>6: f 1000 – 4999<br>7: f 5000 – 9999<br>8: f 10.000 - 19.999<br>9: f 20.000 - ? \t|\n",
    "| PBROM \t| Contribution moped policies \t| Categorical \t| _int64_ \t| 0: f 0<br>1: f 1 – 49<br>2: f 50 – 99<br>3: f 100 – 199<br>4: f 200 – 499<br>5: f 500 – 999<br>6: f 1000 – 4999<br>7: f 5000 – 9999<br>8: f 10.000 - 19.999<br>9: f 20.000 - ? \t|\n",
    "| PLEVEN \t| Contribution life insurances \t| Categorical \t| _int64_ \t| 0: f 0<br>1: f 1 – 49<br>2: f 50 – 99<br>3: f 100 – 199<br>4: f 200 – 499<br>5: f 500 – 999<br>6: f 1000 – 4999<br>7: f 5000 – 9999<br>8: f 10.000 - 19.999<br>9: f 20.000 - ? \t|\n",
    "| PPERSONG \t| Contribution private accident insurance policies \t| Categorical \t| _int64_ \t| 0: f 0<br>1: f 1 – 49<br>2: f 50 – 99<br>3: f 100 – 199<br>4: f 200 – 499<br>5: f 500 – 999<br>6: f 1000 – 4999<br>7: f 5000 – 9999<br>8: f 10.000 - 19.999<br>9: f 20.000 - ? \t|\n",
    "| PGEZONG \t| Contribution family accidents insurance policies \t| Categorical \t| _int64_ \t| 0: f 0<br>1: f 1 – 49<br>2: f 50 – 99<br>3: f 100 – 199<br>4: f 200 – 499<br>5: f 500 – 999<br>6: f 1000 – 4999<br>7: f 5000 – 9999<br>8: f 10.000 - 19.999<br>9: f 20.000 - ? \t|\n",
    "| PWAOREG \t| Contribution disability insurance policies \t| Categorical \t| _int64_ \t| 0: f 0<br>1: f 1 – 49<br>2: f 50 – 99<br>3: f 100 – 199<br>4: f 200 – 499<br>5: f 500 – 999<br>6: f 1000 – 4999<br>7: f 5000 – 9999<br>8: f 10.000 - 19.999<br>9: f 20.000 - ? \t|\n",
    "| PBRAND \t| Contribution fire policies \t| Categorical \t| _int64_ \t| 0: f 0<br>1: f 1 – 49<br>2: f 50 – 99<br>3: f 100 – 199<br>4: f 200 – 499<br>5: f 500 – 999<br>6: f 1000 – 4999<br>7: f 5000 – 9999<br>8: f 10.000 - 19.999<br>9: f 20.000 - ? \t|\n",
    "| PZEILPL \t| Contribution surfboard policies \t| Categorical \t| _int64_ \t| 0: f 0<br>1: f 1 – 49<br>2: f 50 – 99<br>3: f 100 – 199<br>4: f 200 – 499<br>5: f 500 – 999<br>6: f 1000 – 4999<br>7: f 5000 – 9999<br>8: f 10.000 - 19.999<br>9: f 20.000 - ? \t|\n",
    "| PPLEZIER \t| Contribution boat policies \t| Categorical \t| _int64_ \t| 0: f 0<br>1: f 1 – 49<br>2: f 50 – 99<br>3: f 100 – 199<br>4: f 200 – 499<br>5: f 500 – 999<br>6: f 1000 – 4999<br>7: f 5000 – 9999<br>8: f 10.000 - 19.999<br>9: f 20.000 - ? \t|\n",
    "| PFIETS \t| Contribution bicycle policies \t| Categorical \t| _int64_ \t| 0: f 0<br>1: f 1 – 49<br>2: f 50 – 99<br>3: f 100 – 199<br>4: f 200 – 499<br>5: f 500 – 999<br>6: f 1000 – 4999<br>7: f 5000 – 9999<br>8: f 10.000 - 19.999<br>9: f 20.000 - ? \t|\n",
    "| PINBOED \t| Contribution property insurance policies \t| Categorical \t| _int64_ \t| 0: f 0<br>1: f 1 – 49<br>2: f 50 – 99<br>3: f 100 – 199<br>4: f 200 – 499<br>5: f 500 – 999<br>6: f 1000 – 4999<br>7: f 5000 – 9999<br>8: f 10.000 - 19.999<br>9: f 20.000 - ? \t|\n",
    "| PBYSTAND \t| Contribution social security insurance policies \t| Categorical \t| _int64_ \t| 0: f 0<br>1: f 1 – 49<br>2: f 50 – 99<br>3: f 100 – 199<br>4: f 200 – 499<br>5: f 500 – 999<br>6: f 1000 – 4999<br>7: f 5000 – 9999<br>8: f 10.000 - 19.999<br>9: f 20.000 - ? \t|\n",
    "| AWAPART \t| Number of private third party insurance \t| Discrete \t| _int64_ \t| Values between [1-12] \t|\n",
    "| AWABEDR \t| Number of third party insurance (firms) \t| Discrete \t| _int64_ \t| Values between [1-12] \t|\n",
    "| AWALAND \t| Number of third party insurane (agriculture) \t| Discrete \t| _int64_ \t| Values between [1-12] \t|\n",
    "| APERSAUT \t| Number of car policies \t| Discrete \t| _int64_ \t| Values between [1-12] \t|\n",
    "| ABESAUT \t| Number of delivery van policies \t| Discrete \t| _int64_ \t| Values between [1-12] \t|\n",
    "| AMOTSCO \t| Number of motorcycle/scooter policies \t| Discrete \t| _int64_ \t| Values between [1-12] \t|\n",
    "| AVRAAUT \t| Number of lorry policies \t| Discrete \t| _int64_ \t| Values between [1-12] \t|\n",
    "| AAANHANG \t| Number of trailer policies \t| Discrete \t| _int64_ \t| Values between [1-12] \t|\n",
    "| ATRACTOR \t| Number of tractor policies \t| Discrete \t| _int64_ \t| Values between [1-12] \t|\n",
    "| AWERKT \t| Number of agricultural machines policies \t| Discrete \t| _int64_ \t| Values between [1-12] \t|\n",
    "| ABROM \t| Number of moped policies \t| Discrete \t| _int64_ \t| Values between [1-12] \t|\n",
    "| ALEVEN \t| Number of life insurances \t| Discrete \t| _int64_ \t| Values between [1-12] \t|\n",
    "| APERSONG \t| Number of private accident insurance policies \t| Discrete \t| _int64_ \t| Values between [1-12] \t|\n",
    "| AGEZONG \t| Number of family accidents insurance policies \t| Discrete \t| _int64_ \t| Values between [1-12] \t|\n",
    "| AWAOREG \t| Number of disability insurance policies \t| Discrete \t| _int64_ \t| Values between [1-12] \t|\n",
    "| ABRAND \t| Number of fire policies \t| Discrete \t| _int64_ \t| Values between [1-12] \t|\n",
    "| AZEILPL \t| Number of surfboard policies \t| Discrete \t| _int64_ \t| Values between [1-12] \t|\n",
    "| APLEZIER \t| Number of boat policies \t| Discrete \t| _int64_ \t| Values between [1-12] \t|\n",
    "| AFIETS \t| Number of bicycle policies \t| Discrete \t| _int64_ \t| Values between [1-12] \t|\n",
    "| AINBOED \t| Number of property insurance policies \t| Discrete \t| _int64_ \t| Values between [1-12] \t|\n",
    "| ABYSTAND \t| Number of social security insurance policies \t| Discrete \t| _int64_ \t| Values between [1-12] \t|\n",
    "| **CARAVAN** \t| **OBJECTIVE VARIABLE : Number of mobile home policies** \t| **Categorical** \t|**int64** \t| **0: Won't accquire the home policy<br> 1: Will accquire the home policy** \t|"
   ]
  }
 ],
 "metadata": {
  "kernelspec": {
   "display_name": "machine",
   "language": "python",
   "name": "machine"
  },
  "language_info": {
   "codemirror_mode": {
    "name": "ipython",
    "version": 3
   },
   "file_extension": ".py",
   "mimetype": "text/x-python",
   "name": "python",
   "nbconvert_exporter": "python",
   "pygments_lexer": "ipython3",
   "version": "3.9.12"
  }
 },
 "nbformat": 4,
 "nbformat_minor": 5
}
